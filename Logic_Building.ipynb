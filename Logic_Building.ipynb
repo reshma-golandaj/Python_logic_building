{
 "cells": [
  {
   "cell_type": "markdown",
   "id": "a78a009f-68cc-4627-ba6b-82d524353547",
   "metadata": {},
   "source": [
    "#### 1)Find even or odd(Parity check)"
   ]
  },
  {
   "cell_type": "code",
   "execution_count": 11,
   "id": "3b2126bb-6a41-4e77-aadb-8e6fcf76ffff",
   "metadata": {},
   "outputs": [
    {
     "name": "stdin",
     "output_type": "stream",
     "text": [
      "Enter any number: 7\n"
     ]
    },
    {
     "name": "stdout",
     "output_type": "stream",
     "text": [
      "7 is odd\n"
     ]
    }
   ],
   "source": [
    "a=int(input(\"Enter any number:\"))\n",
    "def EvenOdd(num):\n",
    "    if(num%2==0):\n",
    "        print(f\"{num} is even.\")\n",
    "    else:\n",
    "        print(f\"{num} is odd\")\n",
    "EvenOdd(a)"
   ]
  },
  {
   "cell_type": "markdown",
   "id": "10e276a3-aa09-4dc2-a803-34bd327b99b8",
   "metadata": {},
   "source": [
    "#### Parity Check without %2"
   ]
  },
  {
   "cell_type": "code",
   "execution_count": 63,
   "id": "30dafab0-e495-4b77-b08e-6379dfce62bf",
   "metadata": {},
   "outputs": [
    {
     "name": "stdin",
     "output_type": "stream",
     "text": [
      "Enter any number: 5\n"
     ]
    },
    {
     "data": {
      "text/plain": [
       "'Even'"
      ]
     },
     "execution_count": 63,
     "metadata": {},
     "output_type": "execute_result"
    }
   ],
   "source": [
    "a=int(input(\"Enter any number:\"))\n",
    "def parity(num):\n",
    "    return \"Even\" if (num & 1) else \"odd\"     # num & 1 works because binary last bit shows even/odd\n",
    "parity(a)"
   ]
  },
  {
   "cell_type": "markdown",
   "id": "9bc1a34f-97f9-4db2-9e65-7b6a9cde3a96",
   "metadata": {},
   "source": [
    "#### 2)Sum of digit of n(Without converting to string)"
   ]
  },
  {
   "cell_type": "code",
   "execution_count": 63,
   "id": "d63c51af-e68c-44fd-8cd5-18c9f48230f5",
   "metadata": {},
   "outputs": [
    {
     "name": "stdin",
     "output_type": "stream",
     "text": [
      "Enter any number: 123\n"
     ]
    },
    {
     "name": "stdout",
     "output_type": "stream",
     "text": [
      "Total of digits of number is: 6\n"
     ]
    }
   ],
   "source": [
    "a=int(input(\"Enter any number:\"))\n",
    "sum=0                    # initiate sum to 0\n",
    "while a>0:\n",
    "    sum=sum+a%10         #take all digits one by one with a%10\n",
    "    a=a//10              #new number by ignoring used number i.e using a//10\n",
    "print(f\"Total of digits of number is:\",sum)"
   ]
  },
  {
   "cell_type": "code",
   "execution_count": 57,
   "id": "cbbfb01f-7053-4b01-aebf-a62da898e377",
   "metadata": {},
   "outputs": [
    {
     "name": "stdout",
     "output_type": "stream",
     "text": [
      "15\n"
     ]
    }
   ],
   "source": [
    "def sum_digits_rec(n):\n",
    "    n=abs(n)\n",
    "    if n<10:            #if less than ten then it is already a single digit\n",
    "        return n\n",
    "    return n%10+sum_digits_rec(n//10)       #adds up the single digit with the prvious sum of digits\n",
    "\n",
    "print(sum_digits_rec(12345))"
   ]
  },
  {
   "cell_type": "markdown",
   "id": "45a3e36a-ea52-41d5-8a3b-1c75123e384d",
   "metadata": {},
   "source": [
    "#### 3)Maximum of three numbers"
   ]
  },
  {
   "cell_type": "code",
   "execution_count": 51,
   "id": "ac768a21-e5d1-4221-95fd-2cab2637d014",
   "metadata": {},
   "outputs": [
    {
     "name": "stdin",
     "output_type": "stream",
     "text": [
      "Enter first number: 3\n",
      "Enter second number: 5\n",
      "Enter third number: 2\n"
     ]
    },
    {
     "name": "stdout",
     "output_type": "stream",
     "text": [
      "Largest number is: 5\n"
     ]
    }
   ],
   "source": [
    "a=int(input(\"Enter first number:\"))\n",
    "b=int(input(\"Enter second number:\"))\n",
    "c=int(input(\"Enter third number:\"))\n",
    "def maximum(num1,num2,num3):\n",
    "    if(num1>=num2 and num1>=num3):\n",
    "        return num1\n",
    "    elif(num2>=num1 and num2>=num3):\n",
    "        return num2\n",
    "    elif(num3>=num1 and num3>=num2):\n",
    "        return num3\n",
    "print(\"Largest number is:\",maximum(a,b,c))"
   ]
  },
  {
   "cell_type": "code",
   "execution_count": 59,
   "id": "86a5b18d-2ea1-4db6-b582-41209e570e5d",
   "metadata": {},
   "outputs": [
    {
     "name": "stdout",
     "output_type": "stream",
     "text": [
      "7\n"
     ]
    }
   ],
   "source": [
    "def max3(a,b,c):\n",
    "    m=a                        #store one value to m\n",
    "    if b>m: \n",
    "        m=b                    #if second value is greter than m then assign new value to m\n",
    "    if c>m:\n",
    "        m=c                    #same for number 3\n",
    "    return m                   #return largest number\n",
    "print(max3(3,5,7))"
   ]
  },
  {
   "cell_type": "markdown",
   "id": "e8eaae7f-584a-4813-aa3a-dd01f4809a67",
   "metadata": {},
   "source": [
    "#### 4) Collatz sequence steps\n",
    "---if even divide by 2  ----if odd 3n+1 ---count how many steps untill you reach 1"
   ]
  },
  {
   "cell_type": "code",
   "execution_count": 90,
   "id": "714d6603-7742-4540-afd6-64b24ffdf403",
   "metadata": {},
   "outputs": [
    {
     "name": "stdout",
     "output_type": "stream",
     "text": [
      "8\n"
     ]
    }
   ],
   "source": [
    "def collatz_steps(n,cap=100000):           #cap used to avoid risk of infinite loop\n",
    "    steps=0\n",
    "    while(n!=1 and steps<cap):\n",
    "        n=n//2 if n%2==0 else 3*n+1\n",
    "        steps+=1\n",
    "    return steps if n==1  else -1           #it will give -1 only when steps reach to cap\n",
    "print(collatz_steps(6))"
   ]
  },
  {
   "cell_type": "code",
   "execution_count": 92,
   "id": "4dd1c5bb-ac7f-49d6-8cf3-34e55df5cb61",
   "metadata": {},
   "outputs": [
    {
     "name": "stdout",
     "output_type": "stream",
     "text": [
      "-1\n"
     ]
    }
   ],
   "source": [
    "def collatz_steps(n,cap=10):\n",
    "    steps=0\n",
    "    while(n!=1 and steps<cap):\n",
    "        if n%2==0:\n",
    "            n=n//2\n",
    "        else:\n",
    "            n=3*n+1\n",
    "        steps+=1\n",
    "    return steps if n==1  else -1\n",
    "print(collatz_steps(7))"
   ]
  },
  {
   "cell_type": "markdown",
   "id": "1c7c3218-38ed-47c3-8130-a3f8442dd614",
   "metadata": {},
   "source": [
    "#### 5) Count the number of vowels present in string"
   ]
  },
  {
   "cell_type": "code",
   "execution_count": 5,
   "id": "92b2bef4-e7bd-4ec8-b4a8-b85f04a868b7",
   "metadata": {},
   "outputs": [
    {
     "name": "stdout",
     "output_type": "stream",
     "text": [
      "3\n",
      "2\n"
     ]
    }
   ],
   "source": [
    "def countVowels(s):\n",
    "    vowels=\"aeiouAEIOU\"\n",
    "    count=0\n",
    "    for ch in s:              #iterate each character in string s\n",
    "        if ch in vowels:      #if that character is vowel then increase counter\n",
    "            count+=1\n",
    "    return count\n",
    "\n",
    "print(countVowels(\"Hello World\"))\n",
    "print(countVowels(\"Reshma\"))"
   ]
  },
  {
   "cell_type": "markdown",
   "id": "1463d61f-e93b-4377-9e9f-5181d3563c8f",
   "metadata": {},
   "source": [
    "#### 6) Count digits in an integer"
   ]
  },
  {
   "cell_type": "code",
   "execution_count": 3,
   "id": "48e64081-e215-4ab3-9047-d6264c7cc0d0",
   "metadata": {},
   "outputs": [
    {
     "name": "stdout",
     "output_type": "stream",
     "text": [
      "4\n",
      "6\n"
     ]
    }
   ],
   "source": [
    "def countDigits(num):\n",
    "    count=0\n",
    "    while num>0:\n",
    "        num=num//10      #it will gives new number after removing last digit\n",
    "        count+=1\n",
    "    return count\n",
    "\n",
    "print(countDigits(1234))\n",
    "print(countDigits(123456))"
   ]
  },
  {
   "cell_type": "markdown",
   "id": "7ade388a-bd5b-4e25-b70c-4356f1b75f60",
   "metadata": {},
   "source": [
    "#### 7) Character frequency in string"
   ]
  },
  {
   "cell_type": "code",
   "execution_count": 30,
   "id": "5b8257db-d77c-4e6b-a589-3e4b982c8c96",
   "metadata": {},
   "outputs": [
    {
     "name": "stdout",
     "output_type": "stream",
     "text": [
      "{'a': 2, 'h': 1, 'm': 1, 'd': 1}\n"
     ]
    }
   ],
   "source": [
    "def charFreqString(s):\n",
    "    freq={}             #empty dictnory with key as character and numbers as values\n",
    "    for ch in s.lower():\n",
    "        if ch in freq:\n",
    "            freq[ch]+=1\n",
    "        else:\n",
    "            freq[ch]=1\n",
    "    return freq\n",
    "\n",
    "print(charFreqString(\"Ahmad\"))"
   ]
  },
  {
   "cell_type": "markdown",
   "id": "32da7fcc-5fe1-4e4c-98d7-e13f5e511ec0",
   "metadata": {},
   "source": [
    "#### 8)Word frequency in sentance"
   ]
  },
  {
   "cell_type": "code",
   "execution_count": 38,
   "id": "c7792fca-05c4-4206-8bc2-b5e893ebd5a0",
   "metadata": {},
   "outputs": [
    {
     "name": "stdout",
     "output_type": "stream",
     "text": [
      "{'good': 2, 'morning,': 1, 'its': 1, 'a': 1, 'very': 1, 'day': 1}\n"
     ]
    }
   ],
   "source": [
    "def wordFreq(sent):\n",
    "    freq={}                      #word as key and numbers as value\n",
    "    words=sent.lower().split()          #seperate each word of sentance which is seperated by spaces and gives list of words\n",
    "    for w in words:              #iterate through words i.e it will go to every element of list words\n",
    "        if w in freq:            # if word already present then increment value\n",
    "            freq[w]+=1\n",
    "        else:                    #if not then intialize count\n",
    "            freq[w]=1\n",
    "    return freq\n",
    "\n",
    "\n",
    "print(wordFreq(\"Good morning, its a very good day\"))"
   ]
  },
  {
   "cell_type": "markdown",
   "id": "1b1e350c-5c24-455e-99f4-34d25b78ef10",
   "metadata": {},
   "source": [
    "#### 9) highest frequency of character give character and its count"
   ]
  },
  {
   "cell_type": "code",
   "execution_count": 46,
   "id": "fd7636d0-3c8d-46f8-8513-7041a83371ad",
   "metadata": {},
   "outputs": [
    {
     "name": "stdout",
     "output_type": "stream",
     "text": [
      "('a', 3)\n"
     ]
    }
   ],
   "source": [
    "def highestFreqChar(s):\n",
    "    freq={}\n",
    "    max_count=0\n",
    "    max_char=None\n",
    "    for ch in s:\n",
    "        if ch in freq:\n",
    "            freq[ch]+=1\n",
    "        else:\n",
    "            freq[ch]=1\n",
    "    for ch,count in freq.items():         #iterate from each item of dict i.e key and value ,, ch for key and count for value\n",
    "        if count>max_count:\n",
    "            max_char=ch\n",
    "            max_count=count\n",
    "    return max_char, max_count\n",
    "\n",
    "print(highestFreqChar(\"banana\"))"
   ]
  },
  {
   "cell_type": "markdown",
   "id": "32892218-e7f6-48b3-a554-1b38b3a65dd7",
   "metadata": {},
   "source": [
    "#### 10) Reverse a number"
   ]
  },
  {
   "cell_type": "code",
   "execution_count": 87,
   "id": "bcb9be61-401d-40bc-892b-a078cef0cfd4",
   "metadata": {},
   "outputs": [
    {
     "name": "stdout",
     "output_type": "stream",
     "text": [
      "54321\n"
     ]
    }
   ],
   "source": [
    "def revNum(num):\n",
    "    rev=0\n",
    "    while(num>0):\n",
    "        rev=rev*10+num%10       #formula\n",
    "        num=num//10\n",
    "    return rev\n",
    "\n",
    "print(revNum(12345))"
   ]
  },
  {
   "cell_type": "markdown",
   "id": "fd3d01d2-440d-4cb9-96e2-df7d139eaba8",
   "metadata": {},
   "source": [
    "#### 11) Check palindrom number"
   ]
  },
  {
   "cell_type": "code",
   "execution_count": 130,
   "id": "603dc900-9ac0-424b-b75d-8f55ad337a26",
   "metadata": {},
   "outputs": [
    {
     "name": "stdout",
     "output_type": "stream",
     "text": [
      "False\n",
      "True\n"
     ]
    }
   ],
   "source": [
    "#Simple Logic\n",
    "\n",
    "def palindrome(num):\n",
    "    rev=0\n",
    "    n=num\n",
    "    while num>0:\n",
    "        rev=rev*10+num%10\n",
    "        num=num//10\n",
    "    #return True ifrev==n else False\n",
    "    return rev==n \n",
    "print(palindrome(123))\n",
    "print(palindrome(12321))"
   ]
  },
  {
   "cell_type": "code",
   "execution_count": 146,
   "id": "725d7f83-6631-4273-94c7-44053e9557b7",
   "metadata": {},
   "outputs": [
    {
     "name": "stdout",
     "output_type": "stream",
     "text": [
      "True\n",
      "True\n",
      "False\n",
      "True\n",
      "True\n",
      "False\n"
     ]
    }
   ],
   "source": [
    "#Using String Methods\n",
    "\n",
    "def palindrome(num):\n",
    "    rev=0\n",
    "    n=str(num)\n",
    "    if str(num)==n[::-1]:\n",
    "        return True\n",
    "    else:\n",
    "        return False\n",
    "\n",
    "print(palindrome(12321))\n",
    "print(palindrome(121))\n",
    "print(palindrome(123))\n",
    "print(palindrome(\"reshmamhser\"))\n",
    "print(palindrome(\"abcba\"))\n",
    "print(palindrome(\"abcde\"))"
   ]
  },
  {
   "cell_type": "markdown",
   "id": "e2552a35-748f-448e-adad-61d8427bd40c",
   "metadata": {},
   "source": [
    "#### 12) Factorial Number"
   ]
  },
  {
   "cell_type": "code",
   "execution_count": 96,
   "id": "e081a260-f91f-42e3-8121-5bc1048e0ce6",
   "metadata": {},
   "outputs": [
    {
     "name": "stdout",
     "output_type": "stream",
     "text": [
      "3628800\n"
     ]
    }
   ],
   "source": [
    "def factorial(num):\n",
    "    fact=1\n",
    "    for i in range(1,num+1,1):\n",
    "        fact=fact*i\n",
    "    return fact\n",
    "\n",
    "print(factorial(10))"
   ]
  },
  {
   "cell_type": "markdown",
   "id": "2ca6a5dd-53de-449d-af45-88dc30a94aae",
   "metadata": {},
   "source": [
    "#### 13) Sum of digits of numbers"
   ]
  },
  {
   "cell_type": "code",
   "execution_count": 99,
   "id": "35c9bc00-1624-4f55-940d-1c3c67119525",
   "metadata": {},
   "outputs": [
    {
     "name": "stdout",
     "output_type": "stream",
     "text": [
      "10\n"
     ]
    }
   ],
   "source": [
    "def sumOfDigits(num):\n",
    "    sum=0\n",
    "    while num>0:\n",
    "        sum=sum+num%10\n",
    "        num=num//10\n",
    "    return sum\n",
    "\n",
    "print(sumOfDigits(1234))"
   ]
  },
  {
   "cell_type": "markdown",
   "id": "6eb59ba9-cfe0-44cc-8bee-e0b83d8452f6",
   "metadata": {},
   "source": [
    "#### 14) Armstrong Number"
   ]
  },
  {
   "cell_type": "code",
   "execution_count": 120,
   "id": "157045bd-4b37-416e-8c4f-7fdb3707810d",
   "metadata": {},
   "outputs": [
    {
     "name": "stdout",
     "output_type": "stream",
     "text": [
      "True\n"
     ]
    }
   ],
   "source": [
    "#Simple Logic for three digit number\n",
    "\n",
    "def armstrongNo(num):\n",
    "    result=0\n",
    "    n=num\n",
    "    while num>0:\n",
    "        result=result+(num%10)**3\n",
    "        num=num//10\n",
    "    return True if result==n else False\n",
    "\n",
    "print(armstrongNo(153))"
   ]
  },
  {
   "cell_type": "code",
   "execution_count": 128,
   "id": "e4e2732a-5be9-4dbf-b197-2f294e27c31b",
   "metadata": {},
   "outputs": [
    {
     "name": "stdout",
     "output_type": "stream",
     "text": [
      "True\n",
      "True\n",
      "False\n"
     ]
    }
   ],
   "source": [
    "def armstrongNo(num):\n",
    "    result=0;\n",
    "    n=num\n",
    "    power=len(str(num))\n",
    "    while num>0:\n",
    "        result=result+(num%10)**power\n",
    "        num=num//10\n",
    "    return True if result==n else False\n",
    "\n",
    "print(armstrongNo(153))  \n",
    "print(armstrongNo(9474))\n",
    "print(armstrongNo(123))"
   ]
  },
  {
   "cell_type": "markdown",
   "id": "e279299f-e4f8-46e9-99f9-bc314ccfa151",
   "metadata": {},
   "source": [
    "#### 15) Print Square Pattern(Solid Square)"
   ]
  },
  {
   "cell_type": "code",
   "execution_count": 168,
   "id": "2857b1ec-d2e3-4d73-b422-26c2ee1f05c8",
   "metadata": {},
   "outputs": [
    {
     "name": "stdout",
     "output_type": "stream",
     "text": [
      "* * * \n",
      "* * * \n",
      "* * * \n",
      "* * * * * \n",
      "* * * * * \n",
      "* * * * * \n",
      "* * * * * \n",
      "* * * * * \n"
     ]
    }
   ],
   "source": [
    "def printSquare(n):\n",
    "    for i in range(n):\n",
    "        for j in range(n):\n",
    "            print(\"*\",end=\" \")     #by default end is \"\\n\" so need to declare end=\" \" so that each output will display after each print statement\n",
    "        print()                    #used to go next line after n columns\n",
    "\n",
    "printSquare(3)\n",
    "printSquare(5)"
   ]
  },
  {
   "cell_type": "markdown",
   "id": "a32f4012-c98a-4672-a853-ad9c99a48edd",
   "metadata": {},
   "source": [
    "#### 16) Print Hallow Square"
   ]
  },
  {
   "cell_type": "code",
   "execution_count": 176,
   "id": "3e8b4e0a-1a12-4bef-8363-80c1f2154d62",
   "metadata": {},
   "outputs": [
    {
     "name": "stdout",
     "output_type": "stream",
     "text": [
      "* * * * \n",
      "*     * \n",
      "*     * \n",
      "* * * * \n"
     ]
    }
   ],
   "source": [
    "def printHallowSquare(n):\n",
    "    for i in range(n):\n",
    "        for j in range(n):\n",
    "            if (i==0 or j==0 or i==n-1 or j==n-1):\n",
    "                print(\"*\",end=\" \")\n",
    "            else:\n",
    "                print(\" \",end=\" \")\n",
    "        print()\n",
    "\n",
    "printHallowSquare(4)"
   ]
  },
  {
   "cell_type": "markdown",
   "id": "61c319dd-f894-480b-ba06-943f78933521",
   "metadata": {},
   "source": [
    "#### 17) Right Triangle"
   ]
  },
  {
   "cell_type": "code",
   "execution_count": 226,
   "id": "ac3ea62e-510d-42b8-869a-4f4d32af435e",
   "metadata": {},
   "outputs": [
    {
     "name": "stdout",
     "output_type": "stream",
     "text": [
      "* \n",
      "* * \n",
      "* * * \n",
      "* * * * \n",
      "* * * * * \n"
     ]
    }
   ],
   "source": [
    "def rightTriangle(n):\n",
    "    for i in range(1,n+1,1):\n",
    "        for j in range(i):         #number of star to print= row number\n",
    "                print(\"*\", end=\" \")\n",
    "        print()\n",
    "\n",
    "rightTriangle(5)\n",
    "            "
   ]
  },
  {
   "cell_type": "code",
   "execution_count": 305,
   "id": "74958c65-702b-4729-85ea-7946021f4c99",
   "metadata": {},
   "outputs": [
    {
     "name": "stdout",
     "output_type": "stream",
     "text": [
      "    *\n",
      "    **\n",
      "    ***\n",
      "    ****\n",
      "    *****\n"
     ]
    }
   ],
   "source": [
    "def right_aligned_triangle(n):\n",
    "    for i in range(1,n+1):\n",
    "        spaces=\" \"*(n-1)\n",
    "        stars=\"*\"*i\n",
    "        print(spaces+stars)\n",
    "right_aligned_triangle(5)"
   ]
  },
  {
   "cell_type": "markdown",
   "id": "2b939b89-b269-4d54-bec4-74fb39334c23",
   "metadata": {},
   "source": [
    "#### 18) Inverted right angle"
   ]
  },
  {
   "cell_type": "code",
   "execution_count": 223,
   "id": "cad51c26-7f55-4102-a6dd-11a3ebdcd58c",
   "metadata": {},
   "outputs": [
    {
     "name": "stdout",
     "output_type": "stream",
     "text": [
      "* * * * * \n",
      "* * * * \n",
      "* * * \n",
      "* * \n",
      "* \n"
     ]
    }
   ],
   "source": [
    "def invertedRightAngle(n):\n",
    "    for i in range(n,0,-1):    #start from n goes to 0 with step diff -1\n",
    "        for j in range(i):     #number of stars=row number\n",
    "            print(\"*\",end=\" \")\n",
    "        print()\n",
    "\n",
    "invertedRightAngle(5)"
   ]
  },
  {
   "cell_type": "markdown",
   "id": "493af730-3ac5-446f-8609-d213b0bc4100",
   "metadata": {},
   "source": [
    "#### 19) right aligned traingle"
   ]
  },
  {
   "cell_type": "code",
   "execution_count": 286,
   "id": "8ede692a-088f-40a1-8de9-4dce0c6b9f33",
   "metadata": {},
   "outputs": [
    {
     "name": "stdout",
     "output_type": "stream",
     "text": [
      "            \n",
      "          * \n",
      "        * * \n",
      "      * * * \n",
      "    * * * * \n",
      "  * * * * * \n"
     ]
    }
   ],
   "source": [
    "def rightAlignedTriangle(n):\n",
    "    for i in range(n+1):\n",
    "        for j in range(n+1,0,-1):\n",
    "            if (j in range(i+1)):\n",
    "                print(\"*\",end=\" \")\n",
    "            else:\n",
    "                print(\" \",end=\" \")\n",
    "        print()\n",
    "\n",
    "rightAlignedTriangle(5)\n",
    "        "
   ]
  },
  {
   "cell_type": "code",
   "execution_count": 307,
   "id": "75744717-1c6e-4aff-91b3-2752e3cbdba8",
   "metadata": {},
   "outputs": [
    {
     "name": "stdout",
     "output_type": "stream",
     "text": [
      "    *\n",
      "   **\n",
      "  ***\n",
      " ****\n",
      "*****\n"
     ]
    }
   ],
   "source": [
    "def right_aligned_triangle(n):\n",
    "    for i in range(1,n+1):\n",
    "        spaces=\" \"*(n-i)\n",
    "        stars=\"*\"*i\n",
    "        print(spaces+stars)\n",
    "right_aligned_triangle(5)"
   ]
  },
  {
   "cell_type": "markdown",
   "id": "835a5bb7-cac5-4a42-90f3-1cfff04a8c4a",
   "metadata": {},
   "source": [
    "#### 20) inverted right aligned triangle"
   ]
  },
  {
   "cell_type": "code",
   "execution_count": 291,
   "id": "0ba223f0-e491-476d-94ba-7b8d18fcfa4d",
   "metadata": {},
   "outputs": [
    {
     "name": "stdout",
     "output_type": "stream",
     "text": [
      "  * * * * * \n",
      "    * * * * \n",
      "      * * * \n",
      "        * * \n",
      "          * \n",
      "            \n"
     ]
    }
   ],
   "source": [
    "def invertedRightAlignedTriangle(n):\n",
    "    for i in range(n+1,0,-1):\n",
    "        for j in range(n+1,0,-1):\n",
    "            if (j in range(i)):\n",
    "                print(\"*\",end=\" \")\n",
    "            else:\n",
    "                print(\" \",end=\" \")\n",
    "        print()\n",
    "\n",
    "invertedRightAlignedTriangle(5)\n",
    "        "
   ]
  },
  {
   "cell_type": "code",
   "execution_count": 317,
   "id": "9e783c5e-5236-4a8e-a296-52590b257abc",
   "metadata": {},
   "outputs": [
    {
     "name": "stdout",
     "output_type": "stream",
     "text": [
      " ****\n",
      "  ***\n",
      "   **\n",
      "    *\n",
      "     \n"
     ]
    }
   ],
   "source": [
    "def inverted_right_aligned_triangle(n):\n",
    "    for i in range(1,n+1):     #rows\n",
    "        spaces=\" \"*i           #spaces before stars\n",
    "        stars=\"*\"*(n-i)        #stars decreasing\n",
    "        print(spaces+stars)\n",
    "inverted_right_aligned_triangle(5)"
   ]
  },
  {
   "cell_type": "markdown",
   "id": "3d14e0e1-6cc7-419d-ab27-5d6ed86f9026",
   "metadata": {},
   "source": [
    "#### 21) Pyramid"
   ]
  },
  {
   "cell_type": "code",
   "execution_count": 325,
   "id": "a462b1aa-f70d-457f-bfd1-f8c9872ce53e",
   "metadata": {},
   "outputs": [
    {
     "name": "stdout",
     "output_type": "stream",
     "text": [
      "    *\n",
      "   ***\n",
      "  *****\n",
      " *******\n",
      "*********\n"
     ]
    }
   ],
   "source": [
    "def pyramid(n):\n",
    "    for i in range(1,n+1):    #row start with 1\n",
    "        spaces=\" \"*(n-i)      #decreases with each row\n",
    "        stars=\"*\"*(2*i-1)     #increases double with each row\n",
    "        print(spaces+stars)\n",
    "\n",
    "pyramid(5)"
   ]
  },
  {
   "cell_type": "markdown",
   "id": "1011d6fa-a080-494d-b0ba-c7085b6f23e5",
   "metadata": {},
   "source": [
    "#### 22)Inverted pyramid"
   ]
  },
  {
   "cell_type": "code",
   "execution_count": 344,
   "id": "d487711a-b04c-4dd9-9936-d52dd31a3b3d",
   "metadata": {},
   "outputs": [
    {
     "name": "stdout",
     "output_type": "stream",
     "text": [
      "*********\n",
      " *******\n",
      "  *****\n",
      "   ***\n",
      "    *\n"
     ]
    }
   ],
   "source": [
    "def inverted_pyramid(n):\n",
    "    for i in range(n,0,-1):\n",
    "        spaces=\" \"*(n-i)\n",
    "        stars=\"*\"*(2*i-1)\n",
    "        print(spaces+stars)\n",
    "\n",
    "inverted_pyramid(5)"
   ]
  },
  {
   "cell_type": "markdown",
   "id": "48acd476-5f74-4c8f-94a1-345d7584aa62",
   "metadata": {},
   "source": [
    "#### 23)Diamond"
   ]
  },
  {
   "cell_type": "code",
   "execution_count": 351,
   "id": "73110df2-0c7a-4a6b-bbc9-b2c2c96f1266",
   "metadata": {},
   "outputs": [
    {
     "name": "stdout",
     "output_type": "stream",
     "text": [
      "    *\n",
      "   ***\n",
      "  *****\n",
      " *******\n",
      "*********\n",
      " *******\n",
      "  *****\n",
      "   ***\n",
      "    *\n"
     ]
    }
   ],
   "source": [
    "def diamond(n):\n",
    "    for i in range(1,n):\n",
    "        spaces1=\" \"*(n-i)\n",
    "        stars1=\"*\"*(2*i-1)\n",
    "        print(spaces1+stars1)\n",
    "    for j in range(n,0,-1):\n",
    "        spaces2=\" \"*(n-j)\n",
    "        stars2=\"*\"*(2*j-1)\n",
    "        print(spaces2+stars2)\n",
    "\n",
    "diamond(5)"
   ]
  },
  {
   "cell_type": "code",
   "execution_count": null,
   "id": "84d9f202-7ec2-4dd1-9a7b-80e6d0554de5",
   "metadata": {},
   "outputs": [],
   "source": []
  }
 ],
 "metadata": {
  "kernelspec": {
   "display_name": "Python 3 (ipykernel)",
   "language": "python",
   "name": "python3"
  },
  "language_info": {
   "codemirror_mode": {
    "name": "ipython",
    "version": 3
   },
   "file_extension": ".py",
   "mimetype": "text/x-python",
   "name": "python",
   "nbconvert_exporter": "python",
   "pygments_lexer": "ipython3",
   "version": "3.12.4"
  }
 },
 "nbformat": 4,
 "nbformat_minor": 5
}
